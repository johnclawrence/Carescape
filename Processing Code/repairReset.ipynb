{
 "cells": [
  {
   "cell_type": "markdown",
   "id": "cd998418-2e4e-49ba-b0ae-11d99e40d3bd",
   "metadata": {},
   "source": [
    "Repair Reset is a program that is used to check the status and process of different programs and to reset processes to invoke repairs when various components are not performed successfully."
   ]
  },
  {
   "cell_type": "markdown",
   "id": "1c970b6f-4866-45be-bd86-f6f57bb55048",
   "metadata": {},
   "source": [
    "This first program is used to reset the process of Step1-xmlproc to go back and re-process devices that were started but not completed."
   ]
  },
  {
   "cell_type": "code",
   "execution_count": null,
   "id": "99ed27fb-7ed9-4a99-a6e0-ae0ab95e286a",
   "metadata": {},
   "outputs": [],
   "source": [
    "import shutil\n",
    "import os\n",
    "\n",
    "masterFile=\"/fs/ess/scratch/PAS2164/James2019Out/masterFile.txt\"\n",
    "masterFinish=\"/fs/ess/scratch/PAS2164/James2019Out/masterFinish.txt\"\n",
    "\n",
    "os.remove(masterFile)\n",
    "shutil.copy(masterFinish, masterFile)"
   ]
  },
  {
   "cell_type": "markdown",
   "id": "da31ab5c-21db-4907-9103-80f5945f08b5",
   "metadata": {},
   "source": [
    "This program displays the number of files that have that remain to be completed for a given folder."
   ]
  },
  {
   "cell_type": "code",
   "execution_count": null,
   "id": "cc34ae0c-0958-425e-9a0e-aa85dac0e353",
   "metadata": {},
   "outputs": [],
   "source": [
    "import shutil\n",
    "import os\n",
    "\n",
    "masterFile=\"/fs/ess/scratch/PAS2164/James2019Out/masterFile.txt\"\n",
    "masterFinish=\"/fs/ess/scratch/PAS2164/James2019Out/masterFinish.txt\"\n",
    "\n",
    "mList=[]\n",
    "fList=[]\n",
    "tList=[]\n",
    "masterFin=open(masterFinish)\n",
    "for l in masterFin:\n",
    "    fList.append(l)\n",
    "masterFin.close()\n",
    "\n",
    "masterFil=open(masterFile)\n",
    "for l in masterFil:\n",
    "    mList.append(l)\n",
    "masterFil.close()\n",
    "\n",
    "for date in os.listdir(\"/fs/ess/scratch/PAS2164/Ross2020/\"):\n",
    "    for bed in os.listdir(\"/fs/ess/scratch/PAS2164/Ross2020/\"+date+\"/\"):\n",
    "        tList.append(\"/fs/ess/scratch/PAS2164/Ross2020/\"+date+\"/\"+bed+\"/\"+'\\n')\n",
    "        \n",
    "n=0\n",
    "for x in tList:\n",
    "    if x not in fList:\n",
    "        if len(x.split(\"CSG_GE\"))==1:\n",
    "            n=n+1\n",
    "n"
   ]
  },
  {
   "cell_type": "markdown",
   "id": "6742ed70-2e71-42c2-8352-ac3e2801d9c0",
   "metadata": {},
   "source": [
    "This program displays the % progress for converting flat files to parquet files."
   ]
  },
  {
   "cell_type": "code",
   "execution_count": null,
   "id": "e8b8a064-c47a-414d-b398-d091f1bfa111",
   "metadata": {},
   "outputs": [],
   "source": [
    "import pandas as pd\n",
    "import os\n",
    "import sys\n",
    "sys.path.insert(1, './.local/lib/python3.9/site-packages')\n",
    "sys.path.insert(1, '/users/PAS2164/lawr47/.local/bin')\n",
    "\n",
    "inLoc=\"/fs/ess/scratch/PAS2164/James2019Out/\"\n",
    "outLoc=\"/fs/ess/scratch/PAS2164/James2019Parquet/\"\n",
    "n=0\n",
    "x=0\n",
    "#Build a list of all parquet files already completed\n",
    "iList=[]\n",
    "for pfile in os.listdir(outLoc):\n",
    "    iList.append(outLoc+pfile+\"\\n\")\n",
    "    n=n+1\n",
    "flist=[]\n",
    "#Build a list of all outfiles that exists\n",
    "for pfile in os.listdir(inLoc):\n",
    "    iList.append(inLoc+pfile+\"\\n\")\n",
    "    x=x+1\n",
    "n/x"
   ]
  },
  {
   "cell_type": "markdown",
   "id": "b48f5bf8-a05c-44a2-b23e-9a9bbe3b71db",
   "metadata": {},
   "source": [
    "This code resets the combine process setting the finishes files to the started files. "
   ]
  },
  {
   "cell_type": "code",
   "execution_count": 2,
   "id": "31a0649c-20db-4daf-840d-c9b948ec5236",
   "metadata": {},
   "outputs": [],
   "source": [
    "parqStart='/fs/ess/scratch/PAS2164/j19ps.txt'\n",
    "parqEnd='/fs/ess/scratch/PAS2164/j19pe.txt'\n",
    "\n",
    "\n",
    "os.remove(parqStart)\n",
    "shutil.copy(parqEnd, parqStart)\n",
    "\n"
   ]
  },
  {
   "cell_type": "code",
   "execution_count": 5,
   "id": "635d5719-45b8-421a-8c42-881d750fa0ee",
   "metadata": {},
   "outputs": [],
   "source": [
    "for x in startedDateList:\n",
    "    if x not in finishedDateList:\n",
    "        print(x)"
   ]
  }
 ],
 "metadata": {
  "kernelspec": {
   "display_name": "PySpark",
   "language": "python",
   "name": "pyspark"
  },
  "language_info": {
   "codemirror_mode": {
    "name": "ipython",
    "version": 3
   },
   "file_extension": ".py",
   "mimetype": "text/x-python",
   "name": "python",
   "nbconvert_exporter": "python",
   "pygments_lexer": "ipython3",
   "version": "3.6.6"
  }
 },
 "nbformat": 4,
 "nbformat_minor": 5
}
