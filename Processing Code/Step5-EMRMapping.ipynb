{
 "cells": [
  {
   "cell_type": "markdown",
   "id": "8e1babf8-da56-4e19-9f24-054836fa76e5",
   "metadata": {},
   "source": [
    "The goal of this notebook is to go through the process of mapping EMR data to telemetry tables."
   ]
  },
  {
   "cell_type": "code",
   "execution_count": 1,
   "id": "46df451c-ee1e-4ecf-a742-5521bd945989",
   "metadata": {},
   "outputs": [],
   "source": [
    "from pyspark.sql.functions import monotonically_increasing_id,rand,col,round,to_timestamp,date_sub,expr,date_format,lit"
   ]
  },
  {
   "cell_type": "markdown",
   "id": "888eeab3-1b2e-4736-82f1-b5cbe6b898c0",
   "metadata": {},
   "source": [
    "First I load the PatientMap, this is the dataset that maps MRN to CSID."
   ]
  },
  {
   "cell_type": "code",
   "execution_count": 2,
   "id": "63aa7404-7215-4766-bb5e-f3728e044eb0",
   "metadata": {},
   "outputs": [],
   "source": [
    "dfPatients = spark.read.parquet(\"/fs/ess/scratch/PAS2164/CarescapeComb/Temp2/PatientMap.parquet\")"
   ]
  },
  {
   "cell_type": "markdown",
   "id": "b40844d9-d2a8-42ed-b418-dbb4f41593bf",
   "metadata": {},
   "source": [
    "Then I load all of the different EMR tables."
   ]
  },
  {
   "cell_type": "code",
   "execution_count": 3,
   "id": "edb0611a-dd66-433b-babe-e85bb431f173",
   "metadata": {},
   "outputs": [],
   "source": [
    "dfAlg=spark.read.format(\"csv\").option(\"header\",\"true\").load(\"/fs/ess/scratch/PAS2164/CarescapeData/Allergy.csv\")\n",
    "dfDem=spark.read.format(\"csv\").option(\"header\",\"true\").load(\"/fs/ess/scratch/PAS2164/CarescapeData/Demographics.csv\")\n",
    "dfFlo=spark.read.format(\"csv\").option(\"header\",\"true\").load(\"/fs/ess/scratch/PAS2164/CarescapeData/Flowsheets.csv\")\n",
    "dfICU=spark.read.format(\"csv\").option(\"header\",\"true\").load(\"/fs/ess/scratch/PAS2164/CarescapeData/ICU.csv\")\n",
    "dfLab=spark.read.format(\"csv\").option(\"header\",\"true\").load(\"/fs/ess/scratch/PAS2164/CarescapeData/Lab_Orders.csv\")\n",
    "dfLoc=spark.read.format(\"csv\").option(\"header\",\"true\").load(\"/fs/ess/scratch/PAS2164/CarescapeData/Location.csv\")\n",
    "dfMed=spark.read.format(\"csv\").option(\"header\",\"true\").load(\"/fs/ess/scratch/PAS2164/CarescapeData/Medication_Orders.csv\")\n",
    "dfOrd=spark.read.format(\"csv\").option(\"header\",\"true\").load(\"/fs/ess/scratch/PAS2164/CarescapeData/Orders.csv\")\n",
    "dfPat=spark.read.format(\"csv\").option(\"header\",\"true\").load(\"/fs/ess/scratch/PAS2164/CarescapeData/Patient.csv\")\n",
    "dfSHx=spark.read.format(\"csv\").option(\"header\",\"true\").load(\"/fs/ess/scratch/PAS2164/CarescapeData/Social_Hx.csv\")\n",
    "\n"
   ]
  },
  {
   "cell_type": "markdown",
   "id": "be25d771-6ca5-4e89-9daa-d27cc06d8ae9",
   "metadata": {},
   "source": [
    "I need to mask CSN and to do that I need to get a list of all CSNs."
   ]
  },
  {
   "cell_type": "code",
   "execution_count": 4,
   "id": "56efba57-72c4-47f5-9ecc-c7c5bdb82be9",
   "metadata": {},
   "outputs": [],
   "source": [
    "from functools import reduce\n",
    "from pyspark.sql import DataFrame\n",
    "import pyspark.sql.functions as F\n",
    "#Get all CSNs\n",
    "dfAlgCSN=dfAlg.select(col('PAT_ENC_CSN_ID'))\n",
    "dfDemCSN=dfDem.select(col('PAT_ENC_CSN_ID'))\n",
    "dfFloCSN=dfFlo.select(col('PAT_ENC_CSN_ID'))\n",
    "dfICUCSN=dfICU.select(col('PAT_ENC_CSN_ID'))\n",
    "dfLocCSN=dfLoc.select(col('PAT_ENC_CSN_ID'))\n",
    "dfMedCSN=dfMed.select(col('PAT_ENC_CSN_ID'))\n",
    "dfPatCSN=dfPat.select(col('PAT_ENC_CSN_ID'))\n",
    "dfOrdCSN1=dfOrd.select(col(\"Resulting_CSN\").alias(\"PAT_ENC_CSN_ID\"))\n",
    "dfOrdCSN2=dfOrd.select(col(\"Ordering_CSN\").alias(\"PAT_ENC_CSN_ID\"))\n",
    "dfLabCSN1=dfLab.select(col(\"Resulting_CSN\").alias(\"PAT_ENC_CSN_ID\"))\n",
    "dfLabCSN2=dfLab.select(col(\"Ordering_CSN\").alias(\"PAT_ENC_CSN_ID\"))\n",
    "\n",
    "#Combine them all into 1 dataframe and get the unique elements.\n",
    "dfs = [dfAlgCSN,dfDemCSN,dfFloCSN,dfICUCSN,dfLocCSN,dfMedCSN,dfPatCSN,dfOrdCSN1,dfOrdCSN2,dfLabCSN1,dfLabCSN2]\n",
    "dfCSNall = reduce(DataFrame.union, dfs)\n",
    "dfCSN=dfCSNall.distinct()\n",
    "dfCSN = dfCSN.select(\"*\").orderBy(F.rand())\n",
    "dfCSN=dfCSN.withColumn(\"CS_PAT_ENC_CSN_ID\", monotonically_increasing_id())"
   ]
  },
  {
   "cell_type": "markdown",
   "id": "20bdc02f-e88c-43a4-ae6a-a6a9045a120f",
   "metadata": {},
   "source": [
    "I create a table that maps The Telemetry Patient Map to the EMR Patient Map on MRN, and then use a PAT_ID column to map to joi with each of the other tables. "
   ]
  },
  {
   "cell_type": "code",
   "execution_count": 24,
   "id": "15f8af54-a746-46b2-9772-fb29c09181ae",
   "metadata": {},
   "outputs": [],
   "source": [
    "keyConditions=[]\n",
    "keyConditions.append(dfPatients[\"patientIdPrimary-id\"] == dfPat[\"PAT_MRN_ID\"])\n",
    "dfOut=dfPatients.join(dfPat,keyConditions,\"inner\")\n",
    "\n",
    "dfODist=dfOut[\"patientIdPrimary-id\", \"patientIdPrimary-type\",\"PAT_ID\",\"Offset\",\"csID\"].distinct()\n",
    "\n",
    "keyConditions=[]\n",
    "keyConditions.append(dfODist[\"PAT_ID\"] == dfAlg[\"PAT_ID\"])\n",
    "dfAlgO1=dfODist.join(dfAlg,keyConditions,\"inner\")\n",
    "\n",
    "\n",
    "keyConditions=[]\n",
    "keyConditions.append(dfCSN[\"PAT_ENC_CSN_ID\"] == dfAlg[\"PAT_ENC_CSN_ID\"])\n",
    "dfAlgO=dfAlgO1.join(dfCSN,keyConditions,\"inner\")\n",
    "dfAlgO=dfAlgO.drop(dfAlg.PAT_ENC_CSN_ID)\n",
    "\n",
    "keyConditions=[]\n",
    "keyConditions.append(dfODist[\"PAT_ID\"] == dfDem[\"PAT_ID\"])\n",
    "dfDemO1=dfODist.join(dfDem,keyConditions,\"inner\")\n",
    "\n",
    "keyConditions=[]\n",
    "keyConditions.append(dfCSN[\"PAT_ENC_CSN_ID\"] == dfDem[\"PAT_ENC_CSN_ID\"])\n",
    "dfDemO=dfDemO1.join(dfCSN,keyConditions,\"inner\")\n",
    "dfDemO=dfDemO.drop(dfDem.PAT_ENC_CSN_ID)\n",
    "\n",
    "keyConditions=[]\n",
    "keyConditions.append(dfODist[\"PAT_ID\"] == dfFlo[\"PAT_ID\"])\n",
    "dfFloO1=dfODist.join(dfFlo,keyConditions,\"inner\")\n",
    "\n",
    "keyConditions=[]\n",
    "keyConditions.append(dfCSN[\"PAT_ENC_CSN_ID\"] == dfFlo[\"PAT_ENC_CSN_ID\"])\n",
    "dfFloO=dfFloO1.join(dfCSN,keyConditions,\"inner\")\n",
    "dfFloO=dfFloO.drop(dfFlo.PAT_ENC_CSN_ID)\n",
    "\n",
    "keyConditions=[]\n",
    "keyConditions.append(dfOut[\"PAT_ENC_CSN_ID\"] == dfICU[\"PAT_ENC_CSN_ID\"])\n",
    "dfICUO1=dfOut.join(dfICU,keyConditions,\"inner\")\n",
    "\n",
    "keyConditions=[]\n",
    "keyConditions.append(dfCSN[\"PAT_ENC_CSN_ID\"] == dfICU[\"PAT_ENC_CSN_ID\"])\n",
    "dfICUO=dfICUO1.join(dfCSN,keyConditions,\"inner\")\n",
    "dfICUO=dfICUO.drop(dfICU.PAT_ENC_CSN_ID)\n",
    "\n",
    "keyConditions=[]\n",
    "keyConditions.append(dfOut[\"PAT_ENC_CSN_ID\"] == dfLoc[\"PAT_ENC_CSN_ID\"])\n",
    "dfLocO1=dfOut.join(dfLoc,keyConditions,\"inner\")\n",
    "\n",
    "keyConditions=[]\n",
    "keyConditions.append(dfCSN[\"PAT_ENC_CSN_ID\"] == dfLoc[\"PAT_ENC_CSN_ID\"])\n",
    "dfLocO=dfLocO1.join(dfCSN,keyConditions,\"inner\")\n",
    "dfLocO=dfLocO.drop(dfLoc.PAT_ENC_CSN_ID)\n",
    "\n",
    "keyConditions=[]\n",
    "keyConditions.append(dfODist[\"PAT_ID\"] == dfMed[\"PAT_ID\"])\n",
    "dfMedO1=dfODist.join(dfMed,keyConditions,\"inner\")\n",
    "\n",
    "keyConditions=[]\n",
    "keyConditions.append(dfCSN[\"PAT_ENC_CSN_ID\"] == dfMed[\"PAT_ENC_CSN_ID\"])\n",
    "dfMedO=dfMedO1.join(dfCSN,keyConditions,\"inner\")\n",
    "dfMedO=dfMedO.drop(dfMed.PAT_ENC_CSN_ID)\n",
    "\n",
    "keyConditions=[]\n",
    "keyConditions.append(dfODist[\"PAT_ID\"] == dfSHx[\"PAT_ID\"])\n",
    "dfSHxO=dfODist.join(dfSHx,keyConditions,\"inner\")\n",
    "\n",
    "\n",
    "keyConditions=[]\n",
    "keyConditions.append(dfODist[\"PAT_ID\"] == dfLab[\"PAT_ID\"])\n",
    "dfLabO1=dfODist.join(dfLab,keyConditions,\"inner\")\n",
    "\n",
    "\n",
    "keyConditions=[]\n",
    "keyConditions.append(dfCSN[\"PAT_ENC_CSN_ID\"] == dfLab[\"Ordering_CSN\"])\n",
    "dfLabO2=dfLabO1.join(dfCSN,keyConditions,\"inner\")\n",
    "dfLabO2=dfLabO2.drop(dfLab.Ordering_CSN)\n",
    "dfLabO2=dfLabO2.withColumn(\"Ordering_CSN\", dfCSN.CS_PAT_ENC_CSN_ID)\n",
    "dfLabO2=dfLabO2.drop(dfCSN.PAT_ENC_CSN_ID)\n",
    "dfLabO2=dfLabO2.drop(dfCSN.CS_PAT_ENC_CSN_ID)\n",
    "\n",
    "keyConditions=[]\n",
    "keyConditions.append(dfCSN[\"PAT_ENC_CSN_ID\"] == dfLab[\"Resulting_CSN\"])\n",
    "dfLabO=dfLabO2.join(dfCSN,keyConditions,\"inner\")\n",
    "dfLabO=dfLabO.drop(dfLab.Resulting_CSN)\n",
    "dfLabO=dfLabO.withColumn(\"Resulting_CSN\", dfCSN.CS_PAT_ENC_CSN_ID)\n",
    "dfLabO=dfLabO.drop(dfCSN.PAT_ENC_CSN_ID)\n",
    "dfLabO=dfLabO.drop(dfCSN.CS_PAT_ENC_CSN_ID)\n",
    "\n",
    "keyConditions=[]\n",
    "keyConditions.append(dfODist[\"PAT_ID\"] == dfOrd[\"PAT_ID\"])\n",
    "dfOrdO1=dfODist.join(dfOrd,keyConditions,\"inner\")\n",
    "\n",
    "keyConditions=[]\n",
    "keyConditions.append(dfCSN[\"PAT_ENC_CSN_ID\"] == dfOrd[\"Ordering_CSN\"])\n",
    "dfOrdO2=dfOrdO1.join(dfCSN,keyConditions,\"inner\")\n",
    "dfOrdO2=dfOrdO2.drop(dfOrd.Ordering_CSN)\n",
    "dfOrdO2=dfOrdO2.withColumn(\"Ordering_CSN\", dfCSN.CS_PAT_ENC_CSN_ID)\n",
    "dfOrdO2=dfOrdO2.drop(dfCSN.PAT_ENC_CSN_ID)\n",
    "dfOrdO2=dfOrdO2.drop(dfCSN.CS_PAT_ENC_CSN_ID)\n",
    "\n",
    "keyConditions=[]\n",
    "keyConditions.append(dfCSN[\"PAT_ENC_CSN_ID\"] == dfOrd[\"Resulting_CSN\"])\n",
    "dfOrdO=dfOrdO2.join(dfCSN,keyConditions,\"inner\")\n",
    "dfOrdO=dfOrdO.drop(dfOrd.Resulting_CSN)\n",
    "dfOrdO=dfOrdO.withColumn(\"Resulting_CSN\", dfCSN.CS_PAT_ENC_CSN_ID)\n",
    "dfOrdO=dfOrdO.drop(dfCSN.PAT_ENC_CSN_ID)\n",
    "dfOrdO=dfOrdO.drop(dfCSN.CS_PAT_ENC_CSN_ID)\n",
    "\n",
    "keyConditions=[]\n",
    "keyConditions.append(dfCSN[\"PAT_ENC_CSN_ID\"] == dfOut[\"PAT_ENC_CSN_ID\"])\n",
    "dfOut=dfOut.join(dfCSN,keyConditions,\"inner\")\n",
    "\n"
   ]
  },
  {
   "cell_type": "markdown",
   "id": "1bbe8d7c-8421-4fc0-8269-d81154cb3ad8",
   "metadata": {},
   "source": [
    "Then for each of those tables, I offset all dates and remove identifiers. "
   ]
  },
  {
   "cell_type": "code",
   "execution_count": 25,
   "id": "f845076d-7861-4c01-93fb-211059f3d15a",
   "metadata": {},
   "outputs": [],
   "source": [
    "AlgOut=dfAlgO['csID','Allergy','Allergy_Reaction','CS_PAT_ENC_CSN_ID']\n",
    "DemOut=dfDemO[\"csID\",\"Gender\",\"Age\",\"Marital_Status\",\"Patient_Race\",\"Ethnicity\",\"Preferred_Language\",\"ABO_RH_Blood_Type\",'CS_PAT_ENC_CSN_ID']\n",
    "dfFloO=dfFloO.withColumn(\"polltimestamp\",to_timestamp(\"RECORDED_TIME\"))\n",
    "dfFloO=dfFloO.withColumn(\"offsetDate\",expr(\"date_sub(polltimestamp,Offset)\"))\n",
    "dfFloO=dfFloO.withColumn('offsetTime', date_format('polltimestamp', 'HH:mm:ss'))\n",
    "FloOut=dfFloO[\"csID\",\"FLO_MEAS_ID\",\"flo_meas_name\",\"disp_name\",\"MEAS_VALUE\",\"MEAS_COMMENT\",\"offsetDate\",\"offsetTime\",\"fsd_id\",\"Flow_Type\",'CS_PAT_ENC_CSN_ID']\n",
    "dfICUO=dfICUO.withColumn(\"polltimestampSTART\",to_timestamp(\"Start_Time\"))\n",
    "dfICUO=dfICUO.withColumn(\"offsetStartDate\",expr(\"date_sub(polltimestampSTART,Offset)\"))\n",
    "dfICUO=dfICUO.withColumn('offsetStartTime', date_format('polltimestampSTART', 'HH:mm:ss'))\n",
    "dfICUO=dfICUO.withColumn(\"polltimestampEND\",to_timestamp(\"End_Time\"))\n",
    "dfICUO=dfICUO.withColumn(\"offsetEndDate\",expr(\"date_sub(polltimestampEND,Offset)\"))\n",
    "dfICUO=dfICUO.withColumn('offsetEndTime', date_format('polltimestampEND', 'HH:mm:ss'))\n",
    "ICUOut=dfICUO[\"csID\",\"event_id\",\"IN_Event_Type\",\"DEPARTMENT_ID\",\"DEPARTMENT_NAME\",\"offsetStartDate\",\"offsetStartTime\",\"offsetEndDate\",\"offsetEndTime\",\"OUT_Event_Type\",\"LOS\",'CS_PAT_ENC_CSN_ID']\n",
    "dfLocO=dfLocO.withColumn(\"polltimestampSTART\",to_timestamp(\"Start_Time\"))\n",
    "dfLocO=dfLocO.withColumn(\"offsetStartDate\",expr(\"date_sub(polltimestampSTART,Offset)\"))\n",
    "dfLocO=dfLocO.withColumn('offsetStartTime', date_format('polltimestampSTART', 'HH:mm:ss'))\n",
    "dfLocO=dfLocO.withColumn(\"polltimestampEND\",to_timestamp(\"End_Time\"))\n",
    "dfLocO=dfLocO.withColumn(\"offsetEndDate\",expr(\"date_sub(polltimestampEND,Offset)\"))\n",
    "dfLocO=dfLocO.withColumn('offsetEndTime', date_format('polltimestampEND', 'HH:mm:ss'))\n",
    "LocOut=dfLocO[\"csID\",\"event_id\",\"IN_Event_Type\",\"DEPARTMENT_ID\",\"DEPARTMENT_NAME\",\"BED_ID\",\"ROOM_ID\",\"offsetStartDate\",\"offsetStartTime\",\"offsetEndDate\",\"offsetEndTime\",\"OUT_Event_Type\",\"LOS\",'CS_PAT_ENC_CSN_ID']\n",
    "dfMedO=dfMedO.withColumn(\"polltimestampSTART\",to_timestamp(\"START_DATE\"))\n",
    "dfMedO=dfMedO.withColumn(\"offsetStartDate\",expr(\"date_sub(polltimestampSTART,Offset)\"))\n",
    "dfMedO=dfMedO.withColumn('offsetStartTime', date_format('polltimestampSTART', 'HH:mm:ss'))\n",
    "dfMedO=dfMedO.withColumn(\"polltimestampEND\",to_timestamp(\"END_DATE\"))\n",
    "dfMedO=dfMedO.withColumn(\"offsetEndDate\",expr(\"date_sub(polltimestampEND,Offset)\"))\n",
    "dfMedO=dfMedO.withColumn('offsetEndTime', date_format('polltimestampEND', 'HH:mm:ss'))\n",
    "dfMedO=dfMedO.withColumn(\"polltimestampOrder\",to_timestamp(\"ORDERING_DATE\"))\n",
    "dfMedO=dfMedO.withColumn(\"offsetOrderingDate\",expr(\"date_sub(polltimestampOrder,Offset)\"))\n",
    "MedOut=dfMedO[\"csID\",\"MEDICATION\",\"offsetOrderingDate\",\"offsetStartDate\",\"offsetStartTime\",\"offsetEndDate\",\"offsetEndTime\",\"ORDERING_MODE\",\"HV_DISCRETE_DOSE\",\"HV_DISCRET_DOSE_UNIT\",\"FREQUENCY\",\"MAR_DOSE\",\"MAR_DOSE_UNIT\",\"MAR_TAKEN_TIME\",\"MAR_ACTION\",\"MAR_ROUTE\",'CS_PAT_ENC_CSN_ID']\n",
    "dfSHxO=dfSHxO.withColumn(\"polltimestampSTART\",to_timestamp(\"SMOKING_QUIT_DATE\"))\n",
    "dfSHxO=dfSHxO.withColumn(\"offsetSMOKING_QUIT_DATE\",expr(\"date_sub(polltimestampSTART,Offset)\"))\n",
    "dfSHxO=dfSHxO.withColumn(\"polltimestampEND\",to_timestamp(\"SMOKELESS_QUIT_DATE\"))\n",
    "dfSHxO=dfSHxO.withColumn(\"offsetSMOKELESS_QUIT_DATE\",expr(\"date_sub(polltimestampEND,Offset)\"))\n",
    "SHxOut=dfSHxO[\"csID\",\"TOBACCO_USER_C\",\"SMOKING_TOB_USE_C\",\"offsetSMOKING_QUIT_DATE\",\"offsetSMOKELESS_QUIT_DATE\",\"CIGARETTES_YN\",\"PIPES_YN\",\"CIGARS_YN\",\"TOBACCO_PAK_PER_DY\",\"TOBACCO_USED_YEARS\",\"TOBACCO_COMMENT\",\"SMOKELESS_TOB_USE\",\"SNUFF_YN\",\"CHEW_YN\",\"SMOKELESS_QUIT_DATE\",\"ALCOHOL_USE_C\",\"ALCOHOL_SRC_C\",\"ALCOHOL_FREQ_C\",\"ALCOHOL_DRINKS_PER_DAY_C\",\"ALCOHOL_BINGE_C\",\"ALCOHOL_OZ_PER_WK\",\"ALCOHOL_COMMENT\",\"DRUG_SRC_C\",\"IV_DRUG_USER_YN\",\"ILL_DRUG_USER_C\",\"ILLICIT_DRUG_FREQ\",\"ILLICIT_DRUG_CMT\"]\n",
    "dfLabO=dfLabO.withColumn(\"polltimestampSTART\",to_timestamp(\"ORDERING_DATE\"))\n",
    "dfLabO=dfLabO.withColumn(\"offsetOrderDate\",expr(\"date_sub(polltimestampSTART,Offset)\"))\n",
    "dfLabO=dfLabO.withColumn('offsetOrderTime', date_format('polltimestampSTART', 'HH:mm:ss'))\n",
    "dfLabO=dfLabO.withColumn(\"polltimestampEND\",to_timestamp(\"RESULT_DATE\"))\n",
    "dfLabO=dfLabO.withColumn(\"offsetResultDate\",expr(\"date_sub(polltimestampEND,Offset)\"))\n",
    "dfLabO=dfLabO.withColumn('offsetResultTime', date_format('polltimestampEND', 'HH:mm:ss'))\n",
    "LabOut=dfLabO[\"csID\",\"Order_type\",\"DESCRIPTION\",\"PROC_ID\",\"COMPONENT_NAME\",\"ORDER_STATUS_C\",\"order_status\",\"offsetOrderDate\",\"offsetOrderTime\",\"offsetResultDate\",\"offsetResultTime\",\"ORD_NUM_VALUE\",\"ORD_VALUE\",\"COMPONENT_COMMENT\",'Ordering_CSN','Resulting_CSN']\n",
    "dfOrdO=dfOrdO.withColumn(\"polltimestampSTART\",to_timestamp(\"ORDERING_DATE\"))\n",
    "dfOrdO=dfOrdO.withColumn(\"offsetOrderDate\",expr(\"date_sub(polltimestampSTART,Offset)\"))\n",
    "dfOrdO=dfOrdO.withColumn('offsetOrderTime', date_format('polltimestampSTART', 'HH:mm:ss'))\n",
    "dfOrdO=dfOrdO.withColumn(\"polltimestampEND\",to_timestamp(\"RESULT_DATE\"))\n",
    "dfOrdO=dfOrdO.withColumn(\"offsetResultDate\",expr(\"date_sub(polltimestampEND,Offset)\"))\n",
    "dfOrdO=dfOrdO.withColumn('offsetResultTime', date_format('polltimestampEND', 'HH:mm:ss'))\n",
    "OrdOut=dfOrdO[\"csID\",\"Order_type\",\"DESCRIPTION\",\"PROC_ID\",\"ORDER_STATUS_C\",\"order_status\",\"offsetOrderDate\",\"offsetOrderTime\",\"offsetResultDate\",\"offsetResultTime\",\"ORD_NUM_VALUE\",\"ORD_VALUE\",\"COMPONENT_COMMENT\",'Ordering_CSN','Resulting_CSN']\n",
    "dfOut=dfOut.withColumn(\"polltimestampSTART\",to_timestamp(\"HOSP_ADMSN_TIME\"))\n",
    "dfOut=dfOut.withColumn(\"offsetHospAdmsnDate\",expr(\"date_sub(polltimestampSTART,Offset)\"))\n",
    "dfOut=dfOut.withColumn('offsetHospAdmsnTime', date_format('polltimestampSTART', 'HH:mm:ss'))\n",
    "dfOut=dfOut.withColumn(\"polltimestampEND\",to_timestamp(\"HOSP_DISCH_TIME\"))\n",
    "dfOut=dfOut.withColumn(\"offsetHospDischDate\",expr(\"date_sub(polltimestampEND,Offset)\"))\n",
    "dfOut=dfOut.withColumn('offsetHospDischTime', date_format('polltimestampEND', 'HH:mm:ss'))\n",
    "PatOut=dfOut[\"csID\",\"Admission_Type\",\"Admit_Source\",\"LOS_Hours\",\"REASON_VISIT_NAME\",\"offsetHospAdmsnDate\",\"offsetHospAdmsnTime\",\"offsetHospDischDate\",\"offsetHospDischTime\",\"Discharge_Destination\",\"Primary_ICD10\",\"Primary_Diagnosis\",\"Secondary_ICD10\",\"Secondary_Diagnosis\",'CS_PAT_ENC_CSN_ID']"
   ]
  },
  {
   "cell_type": "markdown",
   "id": "4723c7f3-f2f2-410f-b9e4-669946acdff5",
   "metadata": {},
   "source": [
    "With the datasets created and coded I then write each of the EMR csv files to file. "
   ]
  },
  {
   "cell_type": "code",
   "execution_count": 26,
   "id": "8854fbba-2b28-42b0-84c3-ef80afdb5c3f",
   "metadata": {
    "tags": []
   },
   "outputs": [],
   "source": [
    "PatOut.write.option(\"mergeSchema\", \"true\").mode(\"overwrite\").parquet('/fs/ess/scratch/PAS2164/Patient.parquet')\n",
    "AlgOut.write.option(\"mergeSchema\", \"true\").mode(\"overwrite\").parquet('/fs/ess/scratch/PAS2164/Allergies.parquet')\n",
    "DemOut.write.option(\"mergeSchema\", \"true\").mode(\"overwrite\").parquet('/fs/ess/scratch/PAS2164/Demographics.parquet')\n",
    "FloOut.write.option(\"mergeSchema\", \"true\").mode(\"overwrite\").parquet('/fs/ess/scratch/PAS2164/Flowsheet.parquet')\n",
    "ICUOut.write.option(\"mergeSchema\", \"true\").mode(\"overwrite\").parquet('/fs/ess/scratch/PAS2164/ICU.parquet')\n",
    "LocOut.write.option(\"mergeSchema\", \"true\").mode(\"overwrite\").parquet('/fs/ess/scratch/PAS2164/Location.parquet')\n",
    "MedOut.write.option(\"mergeSchema\", \"true\").mode(\"overwrite\").parquet('/fs/ess/scratch/PAS2164/Medications.parquet')\n",
    "SHxOut.write.option(\"mergeSchema\", \"true\").mode(\"overwrite\").parquet('/fs/ess/scratch/PAS2164/SocialHx.parquet')\n",
    "LabOut.write.option(\"mergeSchema\", \"true\").mode(\"overwrite\").parquet('/fs/ess/scratch/PAS2164/Labs.parquet')\n",
    "OrdOut.write.option(\"mergeSchema\", \"true\").mode(\"overwrite\").parquet('/fs/ess/scratch/PAS2164/Orders.parquet')"
   ]
  },
  {
   "cell_type": "code",
   "execution_count": null,
   "id": "41472845-3b9f-411a-a3cd-9e1de621c929",
   "metadata": {},
   "outputs": [],
   "source": []
  }
 ],
 "metadata": {
  "kernelspec": {
   "display_name": "PySpark",
   "language": "python",
   "name": "pyspark"
  },
  "language_info": {
   "codemirror_mode": {
    "name": "ipython",
    "version": 3
   },
   "file_extension": ".py",
   "mimetype": "text/x-python",
   "name": "python",
   "nbconvert_exporter": "python",
   "pygments_lexer": "ipython3",
   "version": "3.6.6"
  }
 },
 "nbformat": 4,
 "nbformat_minor": 5
}
