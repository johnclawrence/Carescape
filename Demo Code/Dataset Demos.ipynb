{
 "cells": [
  {
   "cell_type": "markdown",
   "id": "dcaafd8b-c2a1-4661-97ca-afad1ac0a86a",
   "metadata": {},
   "source": [
    "There are several statistics and figures in the paper, the goal of this notebook is to walk through how those statistics were generated."
   ]
  },
  {
   "cell_type": "code",
   "execution_count": 1,
   "id": "ff83faba-4921-4626-87ec-5d7ae1fa8aa3",
   "metadata": {},
   "outputs": [],
   "source": [
    "pathtoEMR='/fs/ess/scratch/PAS2164/'\n",
    "pathtoCS='/fs/ess/scratch/PAS2164/CarescapeComb/Temp2/'"
   ]
  },
  {
   "cell_type": "markdown",
   "id": "6a08e8ad-6efb-416c-b1b7-5b50143d64cc",
   "metadata": {},
   "source": [
    "How many Hospital Admissions?\n",
    "Every row of Patient.parquet is a hospital visit."
   ]
  },
  {
   "cell_type": "code",
   "execution_count": 27,
   "id": "31e50cf8-79eb-4f0e-a0da-41e18eda910e",
   "metadata": {},
   "outputs": [
    {
     "data": {
      "text/plain": [
       "15416"
      ]
     },
     "execution_count": 27,
     "metadata": {},
     "output_type": "execute_result"
    }
   ],
   "source": [
    "dfPatient = spark.read.parquet(os.path.join(pathtoEMR,\"Patient.parquet\"))\n",
    "dfPatient.count()"
   ]
  },
  {
   "cell_type": "markdown",
   "id": "c77ecd3e-d8d9-48b3-ba19-4c1726749e48",
   "metadata": {},
   "source": [
    "What is the Date Range?"
   ]
  },
  {
   "cell_type": "code",
   "execution_count": 3,
   "id": "7049067c-73cd-4438-ac4f-0e8d03ae970e",
   "metadata": {},
   "outputs": [
    {
     "name": "stdout",
     "output_type": "stream",
     "text": [
      "+------------------------+\n",
      "|min(offsetHospDischDate)|\n",
      "+------------------------+\n",
      "|              2019-04-02|\n",
      "+------------------------+\n",
      "\n",
      "+------------------------+\n",
      "|max(offsetHospAdmsnDate)|\n",
      "+------------------------+\n",
      "|              2020-09-05|\n",
      "+------------------------+\n",
      "\n"
     ]
    }
   ],
   "source": [
    "from pyspark.sql.functions import min,max\n",
    "dfPatient.select(min('offsetHospDischDate')).show()\n",
    "dfPatient.select(max('offsetHospAdmsnDate')).show()"
   ]
  },
  {
   "cell_type": "markdown",
   "id": "9f215780-5724-4a3e-836b-e3253b27f182",
   "metadata": {},
   "source": [
    "Number of unique patients?"
   ]
  },
  {
   "cell_type": "code",
   "execution_count": 4,
   "id": "7af9f879-edd7-4083-9a23-f7140ba22f4b",
   "metadata": {},
   "outputs": [
    {
     "data": {
      "text/plain": [
       "8674"
      ]
     },
     "execution_count": 4,
     "metadata": {},
     "output_type": "execute_result"
    }
   ],
   "source": [
    "dfPatient.select('csID').distinct().count()"
   ]
  },
  {
   "cell_type": "markdown",
   "id": "21f2accd-ed35-4b59-b6be-448ced543069",
   "metadata": {},
   "source": [
    "%Male Population"
   ]
  },
  {
   "cell_type": "code",
   "execution_count": 5,
   "id": "4bd25383-9a72-4de6-aa25-87b5d4ca981c",
   "metadata": {},
   "outputs": [
    {
     "data": {
      "text/plain": [
       "0.5782854505595939"
      ]
     },
     "execution_count": 5,
     "metadata": {},
     "output_type": "execute_result"
    }
   ],
   "source": [
    "dfDemographics = spark.read.parquet(os.path.join(pathtoEMR,\"Demographics.parquet\"))\n",
    "keyConditions=[dfDemographics[\"csID\"] == dfPatient[\"csID\"]]\n",
    "dfPatDemo=dfPatient.join(dfDemographics,keyConditions,\"inner\")\n",
    "dfPatDemo=dfPatDemo.drop(dfDemographics.csID)\n",
    "totalDemo=dfPatDemo.select('csID','Gender').distinct().count()\n",
    "maleDemo=dfPatDemo.select('csID','Gender').distinct().filter(dfPatDemo['Gender']==\"M\").count()\n",
    "maleDemo/totalDemo"
   ]
  },
  {
   "cell_type": "markdown",
   "id": "11b328c0-2eeb-43b0-ac30-2c10e1181236",
   "metadata": {},
   "source": [
    "Median LOS"
   ]
  },
  {
   "cell_type": "code",
   "execution_count": 6,
   "id": "467a0ea7-5957-40bf-952d-35d5b4ad702b",
   "metadata": {},
   "outputs": [
    {
     "data": {
      "text/plain": [
       "count    15330.000000\n",
       "mean       199.497391\n",
       "std        244.791483\n",
       "min          0.000000\n",
       "25%         75.000000\n",
       "50%        128.000000\n",
       "75%        235.000000\n",
       "max       8931.000000\n",
       "Name: LOS_Hours, dtype: float64"
      ]
     },
     "execution_count": 6,
     "metadata": {},
     "output_type": "execute_result"
    }
   ],
   "source": [
    "import pandas as pd\n",
    "import numpy as np\n",
    "pddfPatient=dfPatient.toPandas()\n",
    "pddfPatient['LOS_Hours']=pd.to_numeric(pddfPatient['LOS_Hours'],errors='coerce')\n",
    "pddfPatient = pddfPatient.dropna(subset=['LOS_Hours'])\n",
    "pddfPatient['LOS_Hours'] = pddfPatient['LOS_Hours'].astype('int')\n",
    "pddfPatient['LOS_Hours'].describe()"
   ]
  },
  {
   "cell_type": "markdown",
   "id": "29dc7dac-1e76-4bd9-a14c-6a7b6bcd3343",
   "metadata": {},
   "source": [
    "Median ICU LOS"
   ]
  },
  {
   "cell_type": "code",
   "execution_count": 7,
   "id": "42c8ce1e-accb-4a9f-b634-2fc023791e55",
   "metadata": {
    "tags": []
   },
   "outputs": [
    {
     "name": "stderr",
     "output_type": "stream",
     "text": [
      "/apps/python/3.6-conda5.2/lib/python3.6/site-packages/ipykernel/__main__.py:5: FutureWarning: The pandas.datetime class is deprecated and will be removed from pandas in a future version. Import from datetime instead.\n",
      "/apps/python/3.6-conda5.2/lib/python3.6/site-packages/ipykernel/__main__.py:6: FutureWarning: The pandas.datetime class is deprecated and will be removed from pandas in a future version. Import from datetime instead.\n"
     ]
    },
    {
     "data": {
      "text/plain": [
       "count                        17750\n",
       "mean     4 days 07:28:34.904788732\n",
       "std      5 days 06:47:46.399328600\n",
       "min                0 days 00:01:00\n",
       "25%                1 days 09:36:15\n",
       "50%                2 days 21:08:30\n",
       "75%                5 days 11:00:45\n",
       "max              187 days 21:09:00\n",
       "dtype: object"
      ]
     },
     "execution_count": 7,
     "metadata": {},
     "output_type": "execute_result"
    }
   ],
   "source": [
    "dfICU = spark.read.parquet(os.path.join(pathtoEMR,\"ICU.parquet\"))\n",
    "pddfICU = dfICU.toPandas()\n",
    "pddfICU['offsetStartTime'] = pd.to_datetime(pddfICU['offsetStartTime'],format= '%H:%M:%S' ).dt.time\n",
    "pddfICU['offsetEndTime'] = pd.to_datetime(pddfICU['offsetEndTime'],format= '%H:%M:%S' ).dt.time\n",
    "pddfICU['offsetStartDatetime']=pddfICU.apply(lambda r : pd.datetime.combine(r['offsetStartDate'],r['offsetStartTime']),1)\n",
    "pddfICU['offsetEndDatetime']=pddfICU.apply(lambda r : pd.datetime.combine(r['offsetEndDate'],r['offsetEndTime']),1)\n",
    "(pddfICU['offsetEndDatetime']-pddfICU['offsetStartDatetime']).describe()"
   ]
  },
  {
   "cell_type": "markdown",
   "id": "24307c4d-3cfd-481a-9962-4281d32ca7ac",
   "metadata": {},
   "source": [
    "Charted Events"
   ]
  },
  {
   "cell_type": "code",
   "execution_count": 8,
   "id": "ac837318-cf6d-46e9-a3da-a33ac4f8bbf7",
   "metadata": {},
   "outputs": [
    {
     "data": {
      "text/plain": [
       "779.5716139076285"
      ]
     },
     "execution_count": 8,
     "metadata": {},
     "output_type": "execute_result"
    }
   ],
   "source": [
    "dfFlowsheet = spark.read.parquet(os.path.join(pathtoEMR,\"Flowsheet.parquet\"))\n",
    "dfFlowsheet.count()/dfPatient.count()"
   ]
  },
  {
   "cell_type": "markdown",
   "id": "12920dbb-f8a3-47b8-a2f8-7e5555ac6915",
   "metadata": {},
   "source": [
    "Lab Measurements"
   ]
  },
  {
   "cell_type": "code",
   "execution_count": 9,
   "id": "7d1aaf1b-8aad-4e39-be55-57239aef8676",
   "metadata": {},
   "outputs": [
    {
     "data": {
      "text/plain": [
       "266.5773871302543"
      ]
     },
     "execution_count": 9,
     "metadata": {},
     "output_type": "execute_result"
    }
   ],
   "source": [
    "dfLabs = spark.read.parquet(os.path.join(pathtoEMR,\"Labs.parquet\"))\n",
    "dfLabs.count()/dfPatient.count()"
   ]
  },
  {
   "cell_type": "markdown",
   "id": "3b7d62e1-7061-41cd-92f6-ea097d704b70",
   "metadata": {},
   "source": [
    "Number of Alarms per Hospital Visit"
   ]
  },
  {
   "cell_type": "code",
   "execution_count": 10,
   "id": "aae4a33c-9184-44d0-8e16-02555c195448",
   "metadata": {},
   "outputs": [
    {
     "data": {
      "text/plain": [
       "28193.577062791905"
      ]
     },
     "execution_count": 10,
     "metadata": {},
     "output_type": "execute_result"
    }
   ],
   "source": [
    "distPat=dfPatient.select([\"csID\"]).distinct()\n",
    "dfAlarm= spark.read.parquet(os.path.join(pathtoCS,\"Alarm.parquet\"))\n",
    "keyConditions=[]\n",
    "keyConditions.append(distPat[\"csID\"] == dfAlarm[\"csID\"])\n",
    "dfPatAlarm=distPat.join(dfAlarm,keyConditions,\"inner\")\n",
    "dfPatAlarm.count()/dfPatient.count()"
   ]
  },
  {
   "cell_type": "markdown",
   "id": "5547011b-b7b1-4815-9bca-5233bb327e69",
   "metadata": {},
   "source": [
    "Number of Measurements / Visit"
   ]
  },
  {
   "cell_type": "code",
   "execution_count": 11,
   "id": "ddda66e1-987c-4238-96d0-4c96bd7a641b",
   "metadata": {},
   "outputs": [
    {
     "data": {
      "text/plain": [
       "1020071.9074987026"
      ]
     },
     "execution_count": 11,
     "metadata": {},
     "output_type": "execute_result"
    }
   ],
   "source": [
    "dfMeasurements= spark.read.parquet(os.path.join(pathtoCS,\"Measurement.parquet\"))\n",
    "keyConditions=[]\n",
    "keyConditions.append(distPat[\"csID\"] == dfMeasurements[\"csID\"])\n",
    "dfPatMeas=distPat.join(dfMeasurements,keyConditions,\"inner\")\n",
    "dfPatMeas.count()/dfPatient.count()"
   ]
  },
  {
   "cell_type": "markdown",
   "id": "a274aee1-dc93-42f7-9422-f4be7d9958dd",
   "metadata": {},
   "source": [
    "Number of Waveforms / visit"
   ]
  },
  {
   "cell_type": "code",
   "execution_count": 12,
   "id": "fe5b0557-6cb8-494a-8dd6-65ff303d9c6e",
   "metadata": {},
   "outputs": [
    {
     "data": {
      "text/plain": [
       "524744.182991697"
      ]
     },
     "execution_count": 12,
     "metadata": {},
     "output_type": "execute_result"
    }
   ],
   "source": [
    "dfWave= spark.read.parquet(os.path.join(pathtoCS,\"Waveform.parquet\"))\n",
    "keyConditions=[]\n",
    "keyConditions.append(distPat[\"csID\"] == dfWave[\"csID\"])\n",
    "dfPatWave=distPat.join(dfWave,keyConditions,\"inner\")\n",
    "dfPatWave.count()/dfPatient.count()"
   ]
  },
  {
   "cell_type": "markdown",
   "id": "a0caaadc-8328-4e26-8c82-4a9f93e850aa",
   "metadata": {},
   "source": [
    "Primary and Secondary Diagnosis"
   ]
  },
  {
   "cell_type": "code",
   "execution_count": 13,
   "id": "0fa0732c-7800-4dc1-adf1-b5d40abec5a4",
   "metadata": {
    "tags": []
   },
   "outputs": [
    {
     "name": "stdout",
     "output_type": "stream",
     "text": [
      "+-------------+-----+\n",
      "|Primary_ICD10|count|\n",
      "+-------------+-----+\n",
      "|         null| 3362|\n",
      "|      Z98.890|  339|\n",
      "|       I50.23|  303|\n",
      "|       G89.18|  276|\n",
      "|        G89.3|  204|\n",
      "|        Z95.1|  198|\n",
      "|       J96.01|  197|\n",
      "|       R53.81|  145|\n",
      "|        N17.9|  144|\n",
      "|          J90|  143|\n",
      "+-------------+-----+\n",
      "only showing top 10 rows\n",
      "\n",
      "+-----------------+-----+\n",
      "|  Secondary_ICD10|count|\n",
      "+-----------------+-----+\n",
      "|             null| 2435|\n",
      "|            Z51.5|  610|\n",
      "|            Z95.2|  353|\n",
      "|          Z98.890|  342|\n",
      "|           Z51.11|  178|\n",
      "|           R78.81|  170|\n",
      "|           Z71.89|  163|\n",
      "| unspecified type|  150|\n",
      "|           G89.18|  149|\n",
      "|           R53.81|  140|\n",
      "+-----------------+-----+\n",
      "only showing top 10 rows\n",
      "\n",
      "primary\n",
      "Z98.890 0.021990140114167098\n",
      "I50.23 0.019654903995848468\n",
      "G89.18 0.017903476907109497\n",
      "Secondary\n",
      "Z51.5 0.03956927867151012\n",
      "Z95.2 0.022898287493513234\n",
      "Z98.890 0.022184743124026986\n"
     ]
    }
   ],
   "source": [
    "from pyspark.sql.functions import desc\n",
    "dfPatient.groupBy(\"Primary_ICD10\").count().sort(desc(\"count\")).show(10)\n",
    "dfPatient.groupBy(\"Secondary_ICD10\").count().sort(desc(\"count\")).show(10)\n",
    "print(\"primary\")\n",
    "print(\"Z98.890\",  339/dfPatient.count())\n",
    "print(\"I50.23\",  303/dfPatient.count())\n",
    "print(\"G89.18\",  276/dfPatient.count())\n",
    "print(\"Secondary\")\n",
    "print(\"Z51.5\",  610/dfPatient.count())\n",
    "print(\"Z95.2\",  353/dfPatient.count())\n",
    "print(\"Z98.890\",  342/dfPatient.count())"
   ]
  },
  {
   "cell_type": "code",
   "execution_count": 30,
   "id": "410b6ffb-e08f-45d6-9d41-38276d908692",
   "metadata": {
    "tags": []
   },
   "outputs": [
    {
     "name": "stdout",
     "output_type": "stream",
     "text": [
      "+----+-----+\n",
      "|pdx1|count|\n",
      "+----+-----+\n",
      "|null| 3362|\n",
      "|   I| 2534|\n",
      "|   C| 2428|\n",
      "|   R| 1426|\n",
      "|   Z| 1245|\n",
      "|   J|  863|\n",
      "|   G|  788|\n",
      "|   K|  487|\n",
      "|   N|  456|\n",
      "|   D|  446|\n",
      "|   E|  397|\n",
      "|   T|  215|\n",
      "|   A|  172|\n",
      "|   S|  149|\n",
      "|   M|  147|\n",
      "|   F|   73|\n",
      "|   L|   60|\n",
      "|   H|   42|\n",
      "|   B|   42|\n",
      "|   Q|   41|\n",
      "|   O|   17|\n",
      "|   W|   16|\n",
      "|   U|   10|\n",
      "+----+-----+\n",
      "\n"
     ]
    }
   ],
   "source": [
    "dfPatient2=dfPatient.withColumn(\"pdx1\", dfPatient.Primary_ICD10.substr(1,1))\n",
    "dfPatient2.groupBy(\"pdx1\").count().sort(desc(\"count\")).show(100)"
   ]
  },
  {
   "cell_type": "code",
   "execution_count": 31,
   "id": "ba936da3-b87c-4aca-9b85-bf23c0b471a0",
   "metadata": {},
   "outputs": [
    {
     "name": "stdout",
     "output_type": "stream",
     "text": [
      "+----+-----+\n",
      "|sdx1|count|\n",
      "+----+-----+\n",
      "|   Z| 3526|\n",
      "|   R| 2569|\n",
      "|null| 2435|\n",
      "|    | 1826|\n",
      "|   I| 1268|\n",
      "|   C|  601|\n",
      "|   N|  423|\n",
      "|   G|  418|\n",
      "|   J|  363|\n",
      "|   K|  340|\n",
      "|   T|  258|\n",
      "|   M|  249|\n",
      "|   D|  248|\n",
      "|   S|  238|\n",
      "|   E|  164|\n",
      "|   A|  117|\n",
      "|   L|   80|\n",
      "|   P|   53|\n",
      "|   Q|   50|\n",
      "|   H|   46|\n",
      "|   W|   46|\n",
      "|   F|   34|\n",
      "|   B|   29|\n",
      "|   O|   17|\n",
      "|   U|   15|\n",
      "|   V|    2|\n",
      "|   2|    1|\n",
      "+----+-----+\n",
      "\n"
     ]
    }
   ],
   "source": [
    "dfPatient2=dfPatient.withColumn(\"sdx1\", dfPatient2.Secondary_ICD10.substr(1,1))\n",
    "dfPatient2.groupBy(\"sdx1\").count().sort(desc(\"count\")).show(100)"
   ]
  },
  {
   "cell_type": "code",
   "execution_count": 34,
   "id": "2b1194e2-2e37-4f9a-9f4e-6ff52b767248",
   "metadata": {},
   "outputs": [
    {
     "name": "stdout",
     "output_type": "stream",
     "text": [
      "+--------------------+----------+\n",
      "|             mesname|     count|\n",
      "+--------------------+----------+\n",
      "|           TZ_Offset|1425815659|\n",
      "|     ecg-heartRate#1|1425610338|\n",
      "|     ecg-v_p_cRate#1|1422869369|\n",
      "|ecg-stDeviation-II#1|1412328927|\n",
      "|ecg-stDeviation-I...|1412157993|\n",
      "|ecg-stDeviation-A...|1411948050|\n",
      "| ecg-stDeviation-I#1|1411876703|\n",
      "|ecg-stDeviation-A...|1411811864|\n",
      "|ecg-stDeviation-A...|1411643763|\n",
      "|  nbp-cuffPressure#1|1407023589|\n",
      "|ecg-stDeviation-V1#1|1406068436|\n",
      "|    spO2-pulseRate#1|1197963803|\n",
      "|        spO2-satO2#1|1195115573|\n",
      "|spO2-signalStreng...|1194002531|\n",
      "|  ecgResp-respRate#1| 784612386|\n",
      "|ecg-stDeviation-V2#1| 630821165|\n",
      "|ecg-stDeviation-V3#1| 628077023|\n",
      "|ecg-stDeviation-V5#1| 627089752|\n",
      "|ecg-stDeviation-V4#1| 626964432|\n",
      "|ecg-stDeviation-V6#1| 626720818|\n",
      "|         temp-temp#1| 153730617|\n",
      "|         temp-temp#2| 153698896|\n",
      "|           ip-mean#1| 152520584|\n",
      "|       ip-systolic#1| 147595765|\n",
      "|      ip-diastolic#1| 147164516|\n",
      "|      ip-pulseRate#1| 123225084|\n",
      "|           ip-mean#2| 105450736|\n",
      "|       ip-systolic#2|  97472113|\n",
      "|      ip-diastolic#2|  97309025|\n",
      "|      ip-pulseRate#2|  74620122|\n",
      "|           ip-mean#3|  22382025|\n",
      "|       ip-systolic#3|  20134210|\n",
      "|      ip-diastolic#3|  20121760|\n",
      "|           ip-mean#4|  16935141|\n",
      "|      ip-pulseRate#4|  10414894|\n",
      "|       ip-systolic#4|   9431587|\n",
      "|      ip-diastolic#4|   9429871|\n",
      "|ip-cerebralPerfus...|   8206087|\n",
      "|ip-cerebralPerfus...|   7494145|\n",
      "|ip-cerebralPerfus...|   5473582|\n",
      "|      ip-pulseRate#3|   5322862|\n",
      "|ip-cerebralPerfus...|   2261159|\n",
      "|gasMon-respGas-en...|   1379813|\n",
      "|gasMon-respGas-in...|   1379770|\n",
      "|gasMon-respGas-fr...|   1379716|\n",
      "|               evtSN|    561335|\n",
      "|     nbp-diastolic#1|    561319|\n",
      "|      nbp-systolic#1|    561315|\n",
      "|          nbp-mean#1|    561311|\n",
      "|       nbp-detMode#1|    561167|\n",
      "|ecg-stDeviation-d...|       557|\n",
      "|ecg-stDeviation-d...|       557|\n",
      "|ecg-stDeviation-d...|       557|\n",
      "|ecg-stDeviation-d...|       557|\n",
      "+--------------------+----------+\n",
      "\n"
     ]
    }
   ],
   "source": [
    "dfMeasurements.groupBy(\"mesname\").count().sort(desc(\"count\")).show(100)"
   ]
  },
  {
   "cell_type": "code",
   "execution_count": 36,
   "id": "169bb9c3-59bb-452d-858d-a3882acf1f62",
   "metadata": {},
   "outputs": [
    {
     "name": "stdout",
     "output_type": "stream",
     "text": [
      "+--------------------+----------+\n",
      "|              mgname|     count|\n",
      "+--------------------+----------+\n",
      "|            ecg-II#1|1426711442|\n",
      "|           ecg-III#1|1426651454|\n",
      "|             ecg-I#1|1426640077|\n",
      "|           ecg-AVF#1|1426623302|\n",
      "|           ecg-AVL#1|1426623283|\n",
      "|           ecg-AVR#1|1426623249|\n",
      "|            ecg-V1#1|1413570365|\n",
      "|              spO2#1|1194563771|\n",
      "|           ecgResp#1| 766205434|\n",
      "|                ip#1| 152494410|\n",
      "|                ip#2| 105883629|\n",
      "|                ip#3|  22383020|\n",
      "|                ip#4|  16711772|\n",
      "|            ecg-V2#1|   8957818|\n",
      "|            ecg-V3#1|   2453665|\n",
      "|gasMon-respGas-CO2#1|   1368902|\n",
      "|            ecg-V5#1|   1019466|\n",
      "|            ecg-V4#1|    454206|\n",
      "|            ecg-V6#1|    152917|\n",
      "+--------------------+----------+\n",
      "\n"
     ]
    }
   ],
   "source": [
    "dfWave.groupBy(\"mgname\").count().sort(desc(\"count\")).show(100)"
   ]
  },
  {
   "cell_type": "code",
   "execution_count": null,
   "id": "0fd0fbb5-c60e-4908-9402-4137daf0b13e",
   "metadata": {},
   "outputs": [],
   "source": []
  }
 ],
 "metadata": {
  "kernelspec": {
   "display_name": "PySpark",
   "language": "python",
   "name": "pyspark"
  },
  "language_info": {
   "codemirror_mode": {
    "name": "ipython",
    "version": 3
   },
   "file_extension": ".py",
   "mimetype": "text/x-python",
   "name": "python",
   "nbconvert_exporter": "python",
   "pygments_lexer": "ipython3",
   "version": "3.6.6"
  }
 },
 "nbformat": 4,
 "nbformat_minor": 5
}
